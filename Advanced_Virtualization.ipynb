{
 "cells": [
  {
   "cell_type": "code",
   "execution_count": 4,
   "metadata": {
    "collapsed": true,
    "pycharm": {
     "name": "#%%\n"
    }
   },
   "outputs": [],
   "source": [
    "import pandas as pd\n",
    "\n",
    "movies = pd.read_csv(\"P4-Movie-Ratings.csv\")"
   ]
  },
  {
   "cell_type": "code",
   "execution_count": 5,
   "outputs": [
    {
     "data": {
      "text/plain": "559"
     },
     "execution_count": 5,
     "metadata": {},
     "output_type": "execute_result"
    }
   ],
   "source": [
    "len(movies)"
   ],
   "metadata": {
    "collapsed": false,
    "pycharm": {
     "name": "#%%\n"
    }
   }
  },
  {
   "cell_type": "code",
   "execution_count": 6,
   "outputs": [
    {
     "data": {
      "text/plain": "                    Film      Genre  Rotten Tomatoes Ratings %  \\\n0  (500) Days of Summer      Comedy                         87   \n1            10,000 B.C.  Adventure                          9   \n2             12 Rounds      Action                         30   \n3              127 Hours  Adventure                         93   \n4              17 Again      Comedy                         55   \n\n   Audience Ratings %  Budget (million $)  Year of release  \n0                  81                   8             2009  \n1                  44                 105             2008  \n2                  52                  20             2009  \n3                  84                  18             2010  \n4                  70                  20             2009  ",
      "text/html": "<div>\n<style scoped>\n    .dataframe tbody tr th:only-of-type {\n        vertical-align: middle;\n    }\n\n    .dataframe tbody tr th {\n        vertical-align: top;\n    }\n\n    .dataframe thead th {\n        text-align: right;\n    }\n</style>\n<table border=\"1\" class=\"dataframe\">\n  <thead>\n    <tr style=\"text-align: right;\">\n      <th></th>\n      <th>Film</th>\n      <th>Genre</th>\n      <th>Rotten Tomatoes Ratings %</th>\n      <th>Audience Ratings %</th>\n      <th>Budget (million $)</th>\n      <th>Year of release</th>\n    </tr>\n  </thead>\n  <tbody>\n    <tr>\n      <th>0</th>\n      <td>(500) Days of Summer</td>\n      <td>Comedy</td>\n      <td>87</td>\n      <td>81</td>\n      <td>8</td>\n      <td>2009</td>\n    </tr>\n    <tr>\n      <th>1</th>\n      <td>10,000 B.C.</td>\n      <td>Adventure</td>\n      <td>9</td>\n      <td>44</td>\n      <td>105</td>\n      <td>2008</td>\n    </tr>\n    <tr>\n      <th>2</th>\n      <td>12 Rounds</td>\n      <td>Action</td>\n      <td>30</td>\n      <td>52</td>\n      <td>20</td>\n      <td>2009</td>\n    </tr>\n    <tr>\n      <th>3</th>\n      <td>127 Hours</td>\n      <td>Adventure</td>\n      <td>93</td>\n      <td>84</td>\n      <td>18</td>\n      <td>2010</td>\n    </tr>\n    <tr>\n      <th>4</th>\n      <td>17 Again</td>\n      <td>Comedy</td>\n      <td>55</td>\n      <td>70</td>\n      <td>20</td>\n      <td>2009</td>\n    </tr>\n  </tbody>\n</table>\n</div>"
     },
     "execution_count": 6,
     "metadata": {},
     "output_type": "execute_result"
    }
   ],
   "source": [
    "movies.head()"
   ],
   "metadata": {
    "collapsed": false,
    "pycharm": {
     "name": "#%%\n"
    }
   }
  },
  {
   "cell_type": "code",
   "execution_count": 7,
   "outputs": [
    {
     "data": {
      "text/plain": "Index(['Film', 'Genre', 'Rotten Tomatoes Ratings %', 'Audience Ratings %',\n       'Budget (million $)', 'Year of release'],\n      dtype='object')"
     },
     "execution_count": 7,
     "metadata": {},
     "output_type": "execute_result"
    }
   ],
   "source": [
    "movies.columns"
   ],
   "metadata": {
    "collapsed": false,
    "pycharm": {
     "name": "#%%\n"
    }
   }
  },
  {
   "cell_type": "code",
   "execution_count": 8,
   "outputs": [],
   "source": [
    "#Rename columes so spaces ect are gone\n",
    "\n",
    "movies.columns = ['Film', 'Genre', 'Rotten_Tomatoes_Ratings_Percentage', 'Audience_Ratings_Percentage',\n",
    "       'Budget_million_dollars ', 'Year_of_release']"
   ],
   "metadata": {
    "collapsed": false,
    "pycharm": {
     "name": "#%%\n"
    }
   }
  },
  {
   "cell_type": "code",
   "execution_count": 10,
   "outputs": [
    {
     "data": {
      "text/plain": "                    Film      Genre  Rotten_Tomatoes_Ratings_Percentage  \\\n0  (500) Days of Summer      Comedy                                  87   \n1            10,000 B.C.  Adventure                                   9   \n2             12 Rounds      Action                                  30   \n3              127 Hours  Adventure                                  93   \n4              17 Again      Comedy                                  55   \n\n   Audience_Ratings_Percentage  Budget_million_dollars   Year_of_release  \n0                           81                        8             2009  \n1                           44                      105             2008  \n2                           52                       20             2009  \n3                           84                       18             2010  \n4                           70                       20             2009  ",
      "text/html": "<div>\n<style scoped>\n    .dataframe tbody tr th:only-of-type {\n        vertical-align: middle;\n    }\n\n    .dataframe tbody tr th {\n        vertical-align: top;\n    }\n\n    .dataframe thead th {\n        text-align: right;\n    }\n</style>\n<table border=\"1\" class=\"dataframe\">\n  <thead>\n    <tr style=\"text-align: right;\">\n      <th></th>\n      <th>Film</th>\n      <th>Genre</th>\n      <th>Rotten_Tomatoes_Ratings_Percentage</th>\n      <th>Audience_Ratings_Percentage</th>\n      <th>Budget_million_dollars</th>\n      <th>Year_of_release</th>\n    </tr>\n  </thead>\n  <tbody>\n    <tr>\n      <th>0</th>\n      <td>(500) Days of Summer</td>\n      <td>Comedy</td>\n      <td>87</td>\n      <td>81</td>\n      <td>8</td>\n      <td>2009</td>\n    </tr>\n    <tr>\n      <th>1</th>\n      <td>10,000 B.C.</td>\n      <td>Adventure</td>\n      <td>9</td>\n      <td>44</td>\n      <td>105</td>\n      <td>2008</td>\n    </tr>\n    <tr>\n      <th>2</th>\n      <td>12 Rounds</td>\n      <td>Action</td>\n      <td>30</td>\n      <td>52</td>\n      <td>20</td>\n      <td>2009</td>\n    </tr>\n    <tr>\n      <th>3</th>\n      <td>127 Hours</td>\n      <td>Adventure</td>\n      <td>93</td>\n      <td>84</td>\n      <td>18</td>\n      <td>2010</td>\n    </tr>\n    <tr>\n      <th>4</th>\n      <td>17 Again</td>\n      <td>Comedy</td>\n      <td>55</td>\n      <td>70</td>\n      <td>20</td>\n      <td>2009</td>\n    </tr>\n  </tbody>\n</table>\n</div>"
     },
     "execution_count": 10,
     "metadata": {},
     "output_type": "execute_result"
    }
   ],
   "source": [
    "movies.head()"
   ],
   "metadata": {
    "collapsed": false,
    "pycharm": {
     "name": "#%%\n"
    }
   }
  },
  {
   "cell_type": "code",
   "execution_count": 12,
   "outputs": [
    {
     "name": "stdout",
     "output_type": "stream",
     "text": [
      "<class 'pandas.core.frame.DataFrame'>\n",
      "RangeIndex: 559 entries, 0 to 558\n",
      "Data columns (total 6 columns):\n",
      " #   Column                              Non-Null Count  Dtype \n",
      "---  ------                              --------------  ----- \n",
      " 0   Film                                559 non-null    object\n",
      " 1   Genre                               559 non-null    object\n",
      " 2   Rotten_Tomatoes_Ratings_Percentage  559 non-null    int64 \n",
      " 3   Audience_Ratings_Percentage         559 non-null    int64 \n",
      " 4   Budget_million_dollars              559 non-null    int64 \n",
      " 5   Year_of_release                     559 non-null    int64 \n",
      "dtypes: int64(4), object(2)\n",
      "memory usage: 26.3+ KB\n"
     ]
    }
   ],
   "source": [
    "movies.info()"
   ],
   "metadata": {
    "collapsed": false,
    "pycharm": {
     "name": "#%%\n"
    }
   }
  },
  {
   "cell_type": "code",
   "execution_count": 13,
   "outputs": [
    {
     "data": {
      "text/plain": "       Rotten_Tomatoes_Ratings_Percentage  Audience_Ratings_Percentage  \\\ncount                          559.000000                   559.000000   \nmean                            47.309481                    58.744186   \nstd                             26.413091                    16.826887   \nmin                              0.000000                     0.000000   \n25%                             25.000000                    47.000000   \n50%                             46.000000                    58.000000   \n75%                             70.000000                    72.000000   \nmax                             97.000000                    96.000000   \n\n       Budget_million_dollars   Year_of_release  \ncount               559.000000       559.000000  \nmean                 50.236136      2009.152057  \nstd                  48.731817         1.362632  \nmin                   0.000000      2007.000000  \n25%                  20.000000      2008.000000  \n50%                  35.000000      2009.000000  \n75%                  65.000000      2010.000000  \nmax                 300.000000      2011.000000  ",
      "text/html": "<div>\n<style scoped>\n    .dataframe tbody tr th:only-of-type {\n        vertical-align: middle;\n    }\n\n    .dataframe tbody tr th {\n        vertical-align: top;\n    }\n\n    .dataframe thead th {\n        text-align: right;\n    }\n</style>\n<table border=\"1\" class=\"dataframe\">\n  <thead>\n    <tr style=\"text-align: right;\">\n      <th></th>\n      <th>Rotten_Tomatoes_Ratings_Percentage</th>\n      <th>Audience_Ratings_Percentage</th>\n      <th>Budget_million_dollars</th>\n      <th>Year_of_release</th>\n    </tr>\n  </thead>\n  <tbody>\n    <tr>\n      <th>count</th>\n      <td>559.000000</td>\n      <td>559.000000</td>\n      <td>559.000000</td>\n      <td>559.000000</td>\n    </tr>\n    <tr>\n      <th>mean</th>\n      <td>47.309481</td>\n      <td>58.744186</td>\n      <td>50.236136</td>\n      <td>2009.152057</td>\n    </tr>\n    <tr>\n      <th>std</th>\n      <td>26.413091</td>\n      <td>16.826887</td>\n      <td>48.731817</td>\n      <td>1.362632</td>\n    </tr>\n    <tr>\n      <th>min</th>\n      <td>0.000000</td>\n      <td>0.000000</td>\n      <td>0.000000</td>\n      <td>2007.000000</td>\n    </tr>\n    <tr>\n      <th>25%</th>\n      <td>25.000000</td>\n      <td>47.000000</td>\n      <td>20.000000</td>\n      <td>2008.000000</td>\n    </tr>\n    <tr>\n      <th>50%</th>\n      <td>46.000000</td>\n      <td>58.000000</td>\n      <td>35.000000</td>\n      <td>2009.000000</td>\n    </tr>\n    <tr>\n      <th>75%</th>\n      <td>70.000000</td>\n      <td>72.000000</td>\n      <td>65.000000</td>\n      <td>2010.000000</td>\n    </tr>\n    <tr>\n      <th>max</th>\n      <td>97.000000</td>\n      <td>96.000000</td>\n      <td>300.000000</td>\n      <td>2011.000000</td>\n    </tr>\n  </tbody>\n</table>\n</div>"
     },
     "execution_count": 13,
     "metadata": {},
     "output_type": "execute_result"
    }
   ],
   "source": [
    "# from the movies.info we can see that year of release is treated as a number which we aren't interested in see movies.describe()\n",
    "\n",
    "movies.describe()"
   ],
   "metadata": {
    "collapsed": false,
    "pycharm": {
     "name": "#%%\n"
    }
   }
  },
  {
   "cell_type": "code",
   "execution_count": 15,
   "outputs": [
    {
     "name": "stdout",
     "output_type": "stream",
     "text": [
      "<class 'pandas.core.frame.DataFrame'>\n",
      "RangeIndex: 559 entries, 0 to 558\n",
      "Data columns (total 6 columns):\n",
      " #   Column                              Non-Null Count  Dtype \n",
      "---  ------                              --------------  ----- \n",
      " 0   Film                                559 non-null    object\n",
      " 1   Genre                               559 non-null    object\n",
      " 2   Rotten_Tomatoes_Ratings_Percentage  559 non-null    int64 \n",
      " 3   Audience_Ratings_Percentage         559 non-null    int64 \n",
      " 4   Budget_million_dollars              559 non-null    int64 \n",
      " 5   Year_of_release                     559 non-null    int64 \n",
      "dtypes: int64(4), object(2)\n",
      "memory usage: 26.3+ KB\n",
      "<class 'pandas.core.frame.DataFrame'>\n",
      "RangeIndex: 559 entries, 0 to 558\n",
      "Data columns (total 6 columns):\n",
      " #   Column                              Non-Null Count  Dtype   \n",
      "---  ------                              --------------  -----   \n",
      " 0   Film                                559 non-null    category\n",
      " 1   Genre                               559 non-null    category\n",
      " 2   Rotten_Tomatoes_Ratings_Percentage  559 non-null    int64   \n",
      " 3   Audience_Ratings_Percentage         559 non-null    int64   \n",
      " 4   Budget_million_dollars              559 non-null    int64   \n",
      " 5   Year_of_release                     559 non-null    category\n",
      "dtypes: category(3), int64(3)\n",
      "memory usage: 36.5 KB\n"
     ]
    }
   ],
   "source": [
    "# turning data into categories\n",
    "movies.info()\n",
    "\n",
    "movies.Film = movies.Film.astype('category')\n",
    "movies.Genre = movies.Genre.astype('category')\n",
    "movies.Year_of_release = movies.Year_of_release.astype('category')\n",
    "\n",
    "movies.info()"
   ],
   "metadata": {
    "collapsed": false,
    "pycharm": {
     "name": "#%%\n"
    }
   }
  },
  {
   "cell_type": "code",
   "execution_count": 16,
   "outputs": [
    {
     "data": {
      "text/plain": "       Rotten_Tomatoes_Ratings_Percentage  Audience_Ratings_Percentage  \\\ncount                          559.000000                   559.000000   \nmean                            47.309481                    58.744186   \nstd                             26.413091                    16.826887   \nmin                              0.000000                     0.000000   \n25%                             25.000000                    47.000000   \n50%                             46.000000                    58.000000   \n75%                             70.000000                    72.000000   \nmax                             97.000000                    96.000000   \n\n       Budget_million_dollars   \ncount               559.000000  \nmean                 50.236136  \nstd                  48.731817  \nmin                   0.000000  \n25%                  20.000000  \n50%                  35.000000  \n75%                  65.000000  \nmax                 300.000000  ",
      "text/html": "<div>\n<style scoped>\n    .dataframe tbody tr th:only-of-type {\n        vertical-align: middle;\n    }\n\n    .dataframe tbody tr th {\n        vertical-align: top;\n    }\n\n    .dataframe thead th {\n        text-align: right;\n    }\n</style>\n<table border=\"1\" class=\"dataframe\">\n  <thead>\n    <tr style=\"text-align: right;\">\n      <th></th>\n      <th>Rotten_Tomatoes_Ratings_Percentage</th>\n      <th>Audience_Ratings_Percentage</th>\n      <th>Budget_million_dollars</th>\n    </tr>\n  </thead>\n  <tbody>\n    <tr>\n      <th>count</th>\n      <td>559.000000</td>\n      <td>559.000000</td>\n      <td>559.000000</td>\n    </tr>\n    <tr>\n      <th>mean</th>\n      <td>47.309481</td>\n      <td>58.744186</td>\n      <td>50.236136</td>\n    </tr>\n    <tr>\n      <th>std</th>\n      <td>26.413091</td>\n      <td>16.826887</td>\n      <td>48.731817</td>\n    </tr>\n    <tr>\n      <th>min</th>\n      <td>0.000000</td>\n      <td>0.000000</td>\n      <td>0.000000</td>\n    </tr>\n    <tr>\n      <th>25%</th>\n      <td>25.000000</td>\n      <td>47.000000</td>\n      <td>20.000000</td>\n    </tr>\n    <tr>\n      <th>50%</th>\n      <td>46.000000</td>\n      <td>58.000000</td>\n      <td>35.000000</td>\n    </tr>\n    <tr>\n      <th>75%</th>\n      <td>70.000000</td>\n      <td>72.000000</td>\n      <td>65.000000</td>\n    </tr>\n    <tr>\n      <th>max</th>\n      <td>97.000000</td>\n      <td>96.000000</td>\n      <td>300.000000</td>\n    </tr>\n  </tbody>\n</table>\n</div>"
     },
     "execution_count": 16,
     "metadata": {},
     "output_type": "execute_result"
    }
   ],
   "source": [
    "# correct datatypes describes gives more usefull information\n",
    "\n",
    "movies.describe()"
   ],
   "metadata": {
    "collapsed": false,
    "pycharm": {
     "name": "#%%\n"
    }
   }
  },
  {
   "cell_type": "code",
   "execution_count": 17,
   "outputs": [
    {
     "data": {
      "text/plain": "Index(['Action', 'Adventure', 'Comedy', 'Drama', 'Horror', 'Romance',\n       'Thriller'],\n      dtype='object')"
     },
     "execution_count": 17,
     "metadata": {},
     "output_type": "execute_result"
    }
   ],
   "source": [
    "movies.Genre.cat.categories"
   ],
   "metadata": {
    "collapsed": false,
    "pycharm": {
     "name": "#%%\n"
    }
   }
  }
 ],
 "metadata": {
  "kernelspec": {
   "display_name": "Python 3",
   "language": "python",
   "name": "python3"
  },
  "language_info": {
   "codemirror_mode": {
    "name": "ipython",
    "version": 2
   },
   "file_extension": ".py",
   "mimetype": "text/x-python",
   "name": "python",
   "nbconvert_exporter": "python",
   "pygments_lexer": "ipython2",
   "version": "2.7.6"
  }
 },
 "nbformat": 4,
 "nbformat_minor": 0
}