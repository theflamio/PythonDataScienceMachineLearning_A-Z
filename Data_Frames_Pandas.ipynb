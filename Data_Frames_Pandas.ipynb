{
 "cells": [
  {
   "cell_type": "code",
   "execution_count": 2,
   "metadata": {
    "collapsed": true,
    "pycharm": {
     "name": "#%%\n"
    }
   },
   "outputs": [
    {
     "data": {
      "text/plain": "             Country Name Country Code  Birth rate  Internet users  \\\n0                   Aruba          ABW      10.244            78.9   \n1             Afghanistan          AFG      35.253             5.9   \n2                  Angola          AGO      45.985            19.1   \n3                 Albania          ALB      12.877            57.2   \n4    United Arab Emirates          ARE      11.044            88.0   \n..                    ...          ...         ...             ...   \n190           Yemen, Rep.          YEM      32.947            20.0   \n191          South Africa          ZAF      20.850            46.5   \n192      Congo, Dem. Rep.          COD      42.394             2.2   \n193                Zambia          ZMB      40.471            15.4   \n194              Zimbabwe          ZWE      35.715            18.5   \n\n            Income Group  \n0            High income  \n1             Low income  \n2    Upper middle income  \n3    Upper middle income  \n4            High income  \n..                   ...  \n190  Lower middle income  \n191  Upper middle income  \n192           Low income  \n193  Lower middle income  \n194           Low income  \n\n[195 rows x 5 columns]",
      "text/html": "<div>\n<style scoped>\n    .dataframe tbody tr th:only-of-type {\n        vertical-align: middle;\n    }\n\n    .dataframe tbody tr th {\n        vertical-align: top;\n    }\n\n    .dataframe thead th {\n        text-align: right;\n    }\n</style>\n<table border=\"1\" class=\"dataframe\">\n  <thead>\n    <tr style=\"text-align: right;\">\n      <th></th>\n      <th>Country Name</th>\n      <th>Country Code</th>\n      <th>Birth rate</th>\n      <th>Internet users</th>\n      <th>Income Group</th>\n    </tr>\n  </thead>\n  <tbody>\n    <tr>\n      <th>0</th>\n      <td>Aruba</td>\n      <td>ABW</td>\n      <td>10.244</td>\n      <td>78.9</td>\n      <td>High income</td>\n    </tr>\n    <tr>\n      <th>1</th>\n      <td>Afghanistan</td>\n      <td>AFG</td>\n      <td>35.253</td>\n      <td>5.9</td>\n      <td>Low income</td>\n    </tr>\n    <tr>\n      <th>2</th>\n      <td>Angola</td>\n      <td>AGO</td>\n      <td>45.985</td>\n      <td>19.1</td>\n      <td>Upper middle income</td>\n    </tr>\n    <tr>\n      <th>3</th>\n      <td>Albania</td>\n      <td>ALB</td>\n      <td>12.877</td>\n      <td>57.2</td>\n      <td>Upper middle income</td>\n    </tr>\n    <tr>\n      <th>4</th>\n      <td>United Arab Emirates</td>\n      <td>ARE</td>\n      <td>11.044</td>\n      <td>88.0</td>\n      <td>High income</td>\n    </tr>\n    <tr>\n      <th>...</th>\n      <td>...</td>\n      <td>...</td>\n      <td>...</td>\n      <td>...</td>\n      <td>...</td>\n    </tr>\n    <tr>\n      <th>190</th>\n      <td>Yemen, Rep.</td>\n      <td>YEM</td>\n      <td>32.947</td>\n      <td>20.0</td>\n      <td>Lower middle income</td>\n    </tr>\n    <tr>\n      <th>191</th>\n      <td>South Africa</td>\n      <td>ZAF</td>\n      <td>20.850</td>\n      <td>46.5</td>\n      <td>Upper middle income</td>\n    </tr>\n    <tr>\n      <th>192</th>\n      <td>Congo, Dem. Rep.</td>\n      <td>COD</td>\n      <td>42.394</td>\n      <td>2.2</td>\n      <td>Low income</td>\n    </tr>\n    <tr>\n      <th>193</th>\n      <td>Zambia</td>\n      <td>ZMB</td>\n      <td>40.471</td>\n      <td>15.4</td>\n      <td>Lower middle income</td>\n    </tr>\n    <tr>\n      <th>194</th>\n      <td>Zimbabwe</td>\n      <td>ZWE</td>\n      <td>35.715</td>\n      <td>18.5</td>\n      <td>Low income</td>\n    </tr>\n  </tbody>\n</table>\n<p>195 rows × 5 columns</p>\n</div>"
     },
     "execution_count": 2,
     "metadata": {},
     "output_type": "execute_result"
    }
   ],
   "source": [
    "import pandas as pd\n",
    "\n",
    "pd.read_csv(\"P4-Demographic-Data.csv\")"
   ]
  }
 ],
 "metadata": {
  "kernelspec": {
   "display_name": "Python 3",
   "language": "python",
   "name": "python3"
  },
  "language_info": {
   "codemirror_mode": {
    "name": "ipython",
    "version": 2
   },
   "file_extension": ".py",
   "mimetype": "text/x-python",
   "name": "python",
   "nbconvert_exporter": "python",
   "pygments_lexer": "ipython2",
   "version": "2.7.6"
  }
 },
 "nbformat": 4,
 "nbformat_minor": 0
}