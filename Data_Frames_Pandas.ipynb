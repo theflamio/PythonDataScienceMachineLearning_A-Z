{
 "cells": [
  {
   "cell_type": "code",
   "execution_count": 22,
   "metadata": {
    "collapsed": true,
    "pycharm": {
     "name": "#%%\n"
    }
   },
   "outputs": [],
   "source": [
    "import pandas as pd\n",
    "\n",
    "stats = pd.read_csv(\"P4-Demographic-Data.csv\")"
   ]
  },
  {
   "cell_type": "code",
   "execution_count": 23,
   "outputs": [
    {
     "data": {
      "text/plain": "              CountryName CountryCode  Birthrate  Internetusers  \\\n194              Zimbabwe         ZWE     35.715           18.5   \n193                Zambia         ZMB     40.471           15.4   \n192      Congo, Dem. Rep.         COD     42.394            2.2   \n191          South Africa         ZAF     20.850           46.5   \n190           Yemen, Rep.         YEM     32.947           20.0   \n..                    ...         ...        ...            ...   \n4    United Arab Emirates         ARE     11.044           88.0   \n3                 Albania         ALB     12.877           57.2   \n2                  Angola         AGO     45.985           19.1   \n1             Afghanistan         AFG     35.253            5.9   \n0                   Aruba         ABW     10.244           78.9   \n\n             IncomeGroup  \n194           Low income  \n193  Lower middle income  \n192           Low income  \n191  Upper middle income  \n190  Lower middle income  \n..                   ...  \n4            High income  \n3    Upper middle income  \n2    Upper middle income  \n1             Low income  \n0            High income  \n\n[195 rows x 5 columns]",
      "text/html": "<div>\n<style scoped>\n    .dataframe tbody tr th:only-of-type {\n        vertical-align: middle;\n    }\n\n    .dataframe tbody tr th {\n        vertical-align: top;\n    }\n\n    .dataframe thead th {\n        text-align: right;\n    }\n</style>\n<table border=\"1\" class=\"dataframe\">\n  <thead>\n    <tr style=\"text-align: right;\">\n      <th></th>\n      <th>CountryName</th>\n      <th>CountryCode</th>\n      <th>Birthrate</th>\n      <th>Internetusers</th>\n      <th>IncomeGroup</th>\n    </tr>\n  </thead>\n  <tbody>\n    <tr>\n      <th>194</th>\n      <td>Zimbabwe</td>\n      <td>ZWE</td>\n      <td>35.715</td>\n      <td>18.5</td>\n      <td>Low income</td>\n    </tr>\n    <tr>\n      <th>193</th>\n      <td>Zambia</td>\n      <td>ZMB</td>\n      <td>40.471</td>\n      <td>15.4</td>\n      <td>Lower middle income</td>\n    </tr>\n    <tr>\n      <th>192</th>\n      <td>Congo, Dem. Rep.</td>\n      <td>COD</td>\n      <td>42.394</td>\n      <td>2.2</td>\n      <td>Low income</td>\n    </tr>\n    <tr>\n      <th>191</th>\n      <td>South Africa</td>\n      <td>ZAF</td>\n      <td>20.850</td>\n      <td>46.5</td>\n      <td>Upper middle income</td>\n    </tr>\n    <tr>\n      <th>190</th>\n      <td>Yemen, Rep.</td>\n      <td>YEM</td>\n      <td>32.947</td>\n      <td>20.0</td>\n      <td>Lower middle income</td>\n    </tr>\n    <tr>\n      <th>...</th>\n      <td>...</td>\n      <td>...</td>\n      <td>...</td>\n      <td>...</td>\n      <td>...</td>\n    </tr>\n    <tr>\n      <th>4</th>\n      <td>United Arab Emirates</td>\n      <td>ARE</td>\n      <td>11.044</td>\n      <td>88.0</td>\n      <td>High income</td>\n    </tr>\n    <tr>\n      <th>3</th>\n      <td>Albania</td>\n      <td>ALB</td>\n      <td>12.877</td>\n      <td>57.2</td>\n      <td>Upper middle income</td>\n    </tr>\n    <tr>\n      <th>2</th>\n      <td>Angola</td>\n      <td>AGO</td>\n      <td>45.985</td>\n      <td>19.1</td>\n      <td>Upper middle income</td>\n    </tr>\n    <tr>\n      <th>1</th>\n      <td>Afghanistan</td>\n      <td>AFG</td>\n      <td>35.253</td>\n      <td>5.9</td>\n      <td>Low income</td>\n    </tr>\n    <tr>\n      <th>0</th>\n      <td>Aruba</td>\n      <td>ABW</td>\n      <td>10.244</td>\n      <td>78.9</td>\n      <td>High income</td>\n    </tr>\n  </tbody>\n</table>\n<p>195 rows × 5 columns</p>\n</div>"
     },
     "execution_count": 23,
     "metadata": {},
     "output_type": "execute_result"
    }
   ],
   "source": [
    "# Reverse dataframe 1 version\n",
    "\n",
    "stats.iloc[::-1]"
   ],
   "metadata": {
    "collapsed": false,
    "pycharm": {
     "name": "#%%\n"
    }
   }
  },
  {
   "cell_type": "code",
   "execution_count": 24,
   "outputs": [
    {
     "data": {
      "text/plain": "              CountryName CountryCode  Birthrate  Internetusers  \\\n194              Zimbabwe         ZWE     35.715           18.5   \n193                Zambia         ZMB     40.471           15.4   \n192      Congo, Dem. Rep.         COD     42.394            2.2   \n191          South Africa         ZAF     20.850           46.5   \n190           Yemen, Rep.         YEM     32.947           20.0   \n..                    ...         ...        ...            ...   \n4    United Arab Emirates         ARE     11.044           88.0   \n3                 Albania         ALB     12.877           57.2   \n2                  Angola         AGO     45.985           19.1   \n1             Afghanistan         AFG     35.253            5.9   \n0                   Aruba         ABW     10.244           78.9   \n\n             IncomeGroup  \n194           Low income  \n193  Lower middle income  \n192           Low income  \n191  Upper middle income  \n190  Lower middle income  \n..                   ...  \n4            High income  \n3    Upper middle income  \n2    Upper middle income  \n1             Low income  \n0            High income  \n\n[195 rows x 5 columns]",
      "text/html": "<div>\n<style scoped>\n    .dataframe tbody tr th:only-of-type {\n        vertical-align: middle;\n    }\n\n    .dataframe tbody tr th {\n        vertical-align: top;\n    }\n\n    .dataframe thead th {\n        text-align: right;\n    }\n</style>\n<table border=\"1\" class=\"dataframe\">\n  <thead>\n    <tr style=\"text-align: right;\">\n      <th></th>\n      <th>CountryName</th>\n      <th>CountryCode</th>\n      <th>Birthrate</th>\n      <th>Internetusers</th>\n      <th>IncomeGroup</th>\n    </tr>\n  </thead>\n  <tbody>\n    <tr>\n      <th>194</th>\n      <td>Zimbabwe</td>\n      <td>ZWE</td>\n      <td>35.715</td>\n      <td>18.5</td>\n      <td>Low income</td>\n    </tr>\n    <tr>\n      <th>193</th>\n      <td>Zambia</td>\n      <td>ZMB</td>\n      <td>40.471</td>\n      <td>15.4</td>\n      <td>Lower middle income</td>\n    </tr>\n    <tr>\n      <th>192</th>\n      <td>Congo, Dem. Rep.</td>\n      <td>COD</td>\n      <td>42.394</td>\n      <td>2.2</td>\n      <td>Low income</td>\n    </tr>\n    <tr>\n      <th>191</th>\n      <td>South Africa</td>\n      <td>ZAF</td>\n      <td>20.850</td>\n      <td>46.5</td>\n      <td>Upper middle income</td>\n    </tr>\n    <tr>\n      <th>190</th>\n      <td>Yemen, Rep.</td>\n      <td>YEM</td>\n      <td>32.947</td>\n      <td>20.0</td>\n      <td>Lower middle income</td>\n    </tr>\n    <tr>\n      <th>...</th>\n      <td>...</td>\n      <td>...</td>\n      <td>...</td>\n      <td>...</td>\n      <td>...</td>\n    </tr>\n    <tr>\n      <th>4</th>\n      <td>United Arab Emirates</td>\n      <td>ARE</td>\n      <td>11.044</td>\n      <td>88.0</td>\n      <td>High income</td>\n    </tr>\n    <tr>\n      <th>3</th>\n      <td>Albania</td>\n      <td>ALB</td>\n      <td>12.877</td>\n      <td>57.2</td>\n      <td>Upper middle income</td>\n    </tr>\n    <tr>\n      <th>2</th>\n      <td>Angola</td>\n      <td>AGO</td>\n      <td>45.985</td>\n      <td>19.1</td>\n      <td>Upper middle income</td>\n    </tr>\n    <tr>\n      <th>1</th>\n      <td>Afghanistan</td>\n      <td>AFG</td>\n      <td>35.253</td>\n      <td>5.9</td>\n      <td>Low income</td>\n    </tr>\n    <tr>\n      <th>0</th>\n      <td>Aruba</td>\n      <td>ABW</td>\n      <td>10.244</td>\n      <td>78.9</td>\n      <td>High income</td>\n    </tr>\n  </tbody>\n</table>\n<p>195 rows × 5 columns</p>\n</div>"
     },
     "execution_count": 24,
     "metadata": {},
     "output_type": "execute_result"
    }
   ],
   "source": [
    "# Reverse dataframe 2 version\n",
    "\n",
    "stats.reindex(index=stats.index[::-1])"
   ],
   "metadata": {
    "collapsed": false,
    "pycharm": {
     "name": "#%%\n"
    }
   }
  },
  {
   "cell_type": "code",
   "execution_count": 25,
   "outputs": [
    {
     "data": {
      "text/plain": "            CountryName CountryCode  Birthrate  Internetusers  \\\n0                 Aruba         ABW     10.244        78.9000   \n1           Afghanistan         AFG     35.253         5.9000   \n2                Angola         AGO     45.985        19.1000   \n3               Albania         ALB     12.877        57.2000   \n4  United Arab Emirates         ARE     11.044        88.0000   \n5             Argentina         ARG     17.716        59.9000   \n6               Armenia         ARM     13.308        41.9000   \n7   Antigua and Barbuda         ATG     16.447        63.4000   \n8             Australia         AUS     13.200        83.0000   \n9               Austria         AUT      9.400        80.6188   \n\n           IncomeGroup  \n0          High income  \n1           Low income  \n2  Upper middle income  \n3  Upper middle income  \n4          High income  \n5          High income  \n6  Lower middle income  \n7          High income  \n8          High income  \n9          High income  ",
      "text/html": "<div>\n<style scoped>\n    .dataframe tbody tr th:only-of-type {\n        vertical-align: middle;\n    }\n\n    .dataframe tbody tr th {\n        vertical-align: top;\n    }\n\n    .dataframe thead th {\n        text-align: right;\n    }\n</style>\n<table border=\"1\" class=\"dataframe\">\n  <thead>\n    <tr style=\"text-align: right;\">\n      <th></th>\n      <th>CountryName</th>\n      <th>CountryCode</th>\n      <th>Birthrate</th>\n      <th>Internetusers</th>\n      <th>IncomeGroup</th>\n    </tr>\n  </thead>\n  <tbody>\n    <tr>\n      <th>0</th>\n      <td>Aruba</td>\n      <td>ABW</td>\n      <td>10.244</td>\n      <td>78.9000</td>\n      <td>High income</td>\n    </tr>\n    <tr>\n      <th>1</th>\n      <td>Afghanistan</td>\n      <td>AFG</td>\n      <td>35.253</td>\n      <td>5.9000</td>\n      <td>Low income</td>\n    </tr>\n    <tr>\n      <th>2</th>\n      <td>Angola</td>\n      <td>AGO</td>\n      <td>45.985</td>\n      <td>19.1000</td>\n      <td>Upper middle income</td>\n    </tr>\n    <tr>\n      <th>3</th>\n      <td>Albania</td>\n      <td>ALB</td>\n      <td>12.877</td>\n      <td>57.2000</td>\n      <td>Upper middle income</td>\n    </tr>\n    <tr>\n      <th>4</th>\n      <td>United Arab Emirates</td>\n      <td>ARE</td>\n      <td>11.044</td>\n      <td>88.0000</td>\n      <td>High income</td>\n    </tr>\n    <tr>\n      <th>5</th>\n      <td>Argentina</td>\n      <td>ARG</td>\n      <td>17.716</td>\n      <td>59.9000</td>\n      <td>High income</td>\n    </tr>\n    <tr>\n      <th>6</th>\n      <td>Armenia</td>\n      <td>ARM</td>\n      <td>13.308</td>\n      <td>41.9000</td>\n      <td>Lower middle income</td>\n    </tr>\n    <tr>\n      <th>7</th>\n      <td>Antigua and Barbuda</td>\n      <td>ATG</td>\n      <td>16.447</td>\n      <td>63.4000</td>\n      <td>High income</td>\n    </tr>\n    <tr>\n      <th>8</th>\n      <td>Australia</td>\n      <td>AUS</td>\n      <td>13.200</td>\n      <td>83.0000</td>\n      <td>High income</td>\n    </tr>\n    <tr>\n      <th>9</th>\n      <td>Austria</td>\n      <td>AUT</td>\n      <td>9.400</td>\n      <td>80.6188</td>\n      <td>High income</td>\n    </tr>\n  </tbody>\n</table>\n</div>"
     },
     "execution_count": 25,
     "metadata": {},
     "output_type": "execute_result"
    }
   ],
   "source": [
    "# Show head \"10 from the top\"\n",
    "stats.head(10)"
   ],
   "metadata": {
    "collapsed": false,
    "pycharm": {
     "name": "#%%\n"
    }
   }
  },
  {
   "cell_type": "code",
   "execution_count": 26,
   "outputs": [
    {
     "data": {
      "text/plain": "0                   Aruba\n1             Afghanistan\n2                  Angola\n3                 Albania\n4    United Arab Emirates\n5               Argentina\n6                 Armenia\n7     Antigua and Barbuda\n8               Australia\n9                 Austria\nName: CountryName, dtype: object"
     },
     "execution_count": 26,
     "metadata": {},
     "output_type": "execute_result"
    }
   ],
   "source": [
    "stats['CountryName'].head(10)"
   ],
   "metadata": {
    "collapsed": false,
    "pycharm": {
     "name": "#%%\n"
    }
   }
  },
  {
   "cell_type": "code",
   "execution_count": 27,
   "outputs": [
    {
     "ename": "KeyError",
     "evalue": "('Country Name', 'Birth rate')",
     "output_type": "error",
     "traceback": [
      "\u001B[1;31m---------------------------------------------------------------------------\u001B[0m",
      "\u001B[1;31mKeyError\u001B[0m                                  Traceback (most recent call last)",
      "File \u001B[1;32m~\\AppData\\Local\\Programs\\Python\\Python310\\lib\\site-packages\\pandas\\core\\indexes\\base.py:3621\u001B[0m, in \u001B[0;36mIndex.get_loc\u001B[1;34m(self, key, method, tolerance)\u001B[0m\n\u001B[0;32m   3620\u001B[0m \u001B[38;5;28;01mtry\u001B[39;00m:\n\u001B[1;32m-> 3621\u001B[0m     \u001B[38;5;28;01mreturn\u001B[39;00m \u001B[38;5;28;43mself\u001B[39;49m\u001B[38;5;241;43m.\u001B[39;49m\u001B[43m_engine\u001B[49m\u001B[38;5;241;43m.\u001B[39;49m\u001B[43mget_loc\u001B[49m\u001B[43m(\u001B[49m\u001B[43mcasted_key\u001B[49m\u001B[43m)\u001B[49m\n\u001B[0;32m   3622\u001B[0m \u001B[38;5;28;01mexcept\u001B[39;00m \u001B[38;5;167;01mKeyError\u001B[39;00m \u001B[38;5;28;01mas\u001B[39;00m err:\n",
      "File \u001B[1;32m~\\AppData\\Local\\Programs\\Python\\Python310\\lib\\site-packages\\pandas\\_libs\\index.pyx:136\u001B[0m, in \u001B[0;36mpandas._libs.index.IndexEngine.get_loc\u001B[1;34m()\u001B[0m\n",
      "File \u001B[1;32m~\\AppData\\Local\\Programs\\Python\\Python310\\lib\\site-packages\\pandas\\_libs\\index.pyx:163\u001B[0m, in \u001B[0;36mpandas._libs.index.IndexEngine.get_loc\u001B[1;34m()\u001B[0m\n",
      "File \u001B[1;32mpandas\\_libs\\hashtable_class_helper.pxi:5198\u001B[0m, in \u001B[0;36mpandas._libs.hashtable.PyObjectHashTable.get_item\u001B[1;34m()\u001B[0m\n",
      "File \u001B[1;32mpandas\\_libs\\hashtable_class_helper.pxi:5206\u001B[0m, in \u001B[0;36mpandas._libs.hashtable.PyObjectHashTable.get_item\u001B[1;34m()\u001B[0m\n",
      "\u001B[1;31mKeyError\u001B[0m: ('Country Name', 'Birth rate')",
      "\nThe above exception was the direct cause of the following exception:\n",
      "\u001B[1;31mKeyError\u001B[0m                                  Traceback (most recent call last)",
      "Input \u001B[1;32mIn [27]\u001B[0m, in \u001B[0;36m<cell line: 1>\u001B[1;34m()\u001B[0m\n\u001B[1;32m----> 1\u001B[0m \u001B[43mstats\u001B[49m\u001B[43m[\u001B[49m\u001B[38;5;124;43m'\u001B[39;49m\u001B[38;5;124;43mCountry Name\u001B[39;49m\u001B[38;5;124;43m'\u001B[39;49m\u001B[43m,\u001B[49m\u001B[43m \u001B[49m\u001B[38;5;124;43m'\u001B[39;49m\u001B[38;5;124;43mBirth rate\u001B[39;49m\u001B[38;5;124;43m'\u001B[39;49m\u001B[43m]\u001B[49m\u001B[38;5;241m.\u001B[39mhead(\u001B[38;5;241m10\u001B[39m)\n",
      "File \u001B[1;32m~\\AppData\\Local\\Programs\\Python\\Python310\\lib\\site-packages\\pandas\\core\\frame.py:3505\u001B[0m, in \u001B[0;36mDataFrame.__getitem__\u001B[1;34m(self, key)\u001B[0m\n\u001B[0;32m   3503\u001B[0m \u001B[38;5;28;01mif\u001B[39;00m \u001B[38;5;28mself\u001B[39m\u001B[38;5;241m.\u001B[39mcolumns\u001B[38;5;241m.\u001B[39mnlevels \u001B[38;5;241m>\u001B[39m \u001B[38;5;241m1\u001B[39m:\n\u001B[0;32m   3504\u001B[0m     \u001B[38;5;28;01mreturn\u001B[39;00m \u001B[38;5;28mself\u001B[39m\u001B[38;5;241m.\u001B[39m_getitem_multilevel(key)\n\u001B[1;32m-> 3505\u001B[0m indexer \u001B[38;5;241m=\u001B[39m \u001B[38;5;28;43mself\u001B[39;49m\u001B[38;5;241;43m.\u001B[39;49m\u001B[43mcolumns\u001B[49m\u001B[38;5;241;43m.\u001B[39;49m\u001B[43mget_loc\u001B[49m\u001B[43m(\u001B[49m\u001B[43mkey\u001B[49m\u001B[43m)\u001B[49m\n\u001B[0;32m   3506\u001B[0m \u001B[38;5;28;01mif\u001B[39;00m is_integer(indexer):\n\u001B[0;32m   3507\u001B[0m     indexer \u001B[38;5;241m=\u001B[39m [indexer]\n",
      "File \u001B[1;32m~\\AppData\\Local\\Programs\\Python\\Python310\\lib\\site-packages\\pandas\\core\\indexes\\base.py:3623\u001B[0m, in \u001B[0;36mIndex.get_loc\u001B[1;34m(self, key, method, tolerance)\u001B[0m\n\u001B[0;32m   3621\u001B[0m     \u001B[38;5;28;01mreturn\u001B[39;00m \u001B[38;5;28mself\u001B[39m\u001B[38;5;241m.\u001B[39m_engine\u001B[38;5;241m.\u001B[39mget_loc(casted_key)\n\u001B[0;32m   3622\u001B[0m \u001B[38;5;28;01mexcept\u001B[39;00m \u001B[38;5;167;01mKeyError\u001B[39;00m \u001B[38;5;28;01mas\u001B[39;00m err:\n\u001B[1;32m-> 3623\u001B[0m     \u001B[38;5;28;01mraise\u001B[39;00m \u001B[38;5;167;01mKeyError\u001B[39;00m(key) \u001B[38;5;28;01mfrom\u001B[39;00m \u001B[38;5;21;01merr\u001B[39;00m\n\u001B[0;32m   3624\u001B[0m \u001B[38;5;28;01mexcept\u001B[39;00m \u001B[38;5;167;01mTypeError\u001B[39;00m:\n\u001B[0;32m   3625\u001B[0m     \u001B[38;5;66;03m# If we have a listlike key, _check_indexing_error will raise\u001B[39;00m\n\u001B[0;32m   3626\u001B[0m     \u001B[38;5;66;03m#  InvalidIndexError. Otherwise we fall through and re-raise\u001B[39;00m\n\u001B[0;32m   3627\u001B[0m     \u001B[38;5;66;03m#  the TypeError.\u001B[39;00m\n\u001B[0;32m   3628\u001B[0m     \u001B[38;5;28mself\u001B[39m\u001B[38;5;241m.\u001B[39m_check_indexing_error(key)\n",
      "\u001B[1;31mKeyError\u001B[0m: ('Country Name', 'Birth rate')"
     ]
    }
   ],
   "source": [
    "stats['Country Name', 'Birth rate'].head(10)"
   ],
   "metadata": {
    "collapsed": false,
    "pycharm": {
     "name": "#%%\n"
    }
   }
  },
  {
   "cell_type": "code",
   "execution_count": null,
   "outputs": [],
   "source": [
    "SearchList = ['CountryName', 'Birthrate']\n",
    "\n",
    "stats[SearchList].head(10)"
   ],
   "metadata": {
    "collapsed": false,
    "pycharm": {
     "name": "#%%\n"
    }
   }
  },
  {
   "cell_type": "code",
   "execution_count": null,
   "outputs": [],
   "source": [
    "# Quick access - requires the name to be one word\n",
    "# remember rows must have names without space then use the dot operator\n",
    "stats.Birthrate"
   ],
   "metadata": {
    "collapsed": false,
    "pycharm": {
     "name": "#%%\n"
    }
   }
  },
  {
   "cell_type": "code",
   "execution_count": 28,
   "outputs": [
    {
     "data": {
      "text/plain": "            CountryName  Birthrate\n4  United Arab Emirates     11.044\n5             Argentina     17.716\n6               Armenia     13.308\n7   Antigua and Barbuda     16.447",
      "text/html": "<div>\n<style scoped>\n    .dataframe tbody tr th:only-of-type {\n        vertical-align: middle;\n    }\n\n    .dataframe tbody tr th {\n        vertical-align: top;\n    }\n\n    .dataframe thead th {\n        text-align: right;\n    }\n</style>\n<table border=\"1\" class=\"dataframe\">\n  <thead>\n    <tr style=\"text-align: right;\">\n      <th></th>\n      <th>CountryName</th>\n      <th>Birthrate</th>\n    </tr>\n  </thead>\n  <tbody>\n    <tr>\n      <th>4</th>\n      <td>United Arab Emirates</td>\n      <td>11.044</td>\n    </tr>\n    <tr>\n      <th>5</th>\n      <td>Argentina</td>\n      <td>17.716</td>\n    </tr>\n    <tr>\n      <th>6</th>\n      <td>Armenia</td>\n      <td>13.308</td>\n    </tr>\n    <tr>\n      <th>7</th>\n      <td>Antigua and Barbuda</td>\n      <td>16.447</td>\n    </tr>\n  </tbody>\n</table>\n</div>"
     },
     "execution_count": 28,
     "metadata": {},
     "output_type": "execute_result"
    }
   ],
   "source": [
    "# slice out data\n",
    "SearchList = ['CountryName', 'Birthrate']\n",
    "\n",
    "stats[4:8][SearchList]"
   ],
   "metadata": {
    "collapsed": false,
    "pycharm": {
     "name": "#%%\n"
    }
   }
  },
  {
   "cell_type": "code",
   "execution_count": 29,
   "outputs": [
    {
     "data": {
      "text/plain": "            CountryName  Birthrate\n4  United Arab Emirates     11.044\n5             Argentina     17.716\n6               Armenia     13.308\n7   Antigua and Barbuda     16.447",
      "text/html": "<div>\n<style scoped>\n    .dataframe tbody tr th:only-of-type {\n        vertical-align: middle;\n    }\n\n    .dataframe tbody tr th {\n        vertical-align: top;\n    }\n\n    .dataframe thead th {\n        text-align: right;\n    }\n</style>\n<table border=\"1\" class=\"dataframe\">\n  <thead>\n    <tr style=\"text-align: right;\">\n      <th></th>\n      <th>CountryName</th>\n      <th>Birthrate</th>\n    </tr>\n  </thead>\n  <tbody>\n    <tr>\n      <th>4</th>\n      <td>United Arab Emirates</td>\n      <td>11.044</td>\n    </tr>\n    <tr>\n      <th>5</th>\n      <td>Argentina</td>\n      <td>17.716</td>\n    </tr>\n    <tr>\n      <th>6</th>\n      <td>Armenia</td>\n      <td>13.308</td>\n    </tr>\n    <tr>\n      <th>7</th>\n      <td>Antigua and Barbuda</td>\n      <td>16.447</td>\n    </tr>\n  </tbody>\n</table>\n</div>"
     },
     "execution_count": 29,
     "metadata": {},
     "output_type": "execute_result"
    }
   ],
   "source": [
    "# slice out data in different order\n",
    "SearchList = ['CountryName', 'Birthrate']\n",
    "\n",
    "stats[SearchList][4:8]"
   ],
   "metadata": {
    "collapsed": false,
    "pycharm": {
     "name": "#%%\n"
    }
   }
  },
  {
   "cell_type": "code",
   "execution_count": null,
   "outputs": [],
   "source": [],
   "metadata": {
    "collapsed": false,
    "pycharm": {
     "name": "#%%\n"
    }
   }
  }
 ],
 "metadata": {
  "kernelspec": {
   "display_name": "Python 3",
   "language": "python",
   "name": "python3"
  },
  "language_info": {
   "codemirror_mode": {
    "name": "ipython",
    "version": 2
   },
   "file_extension": ".py",
   "mimetype": "text/x-python",
   "name": "python",
   "nbconvert_exporter": "python",
   "pygments_lexer": "ipython2",
   "version": "2.7.6"
  }
 },
 "nbformat": 4,
 "nbformat_minor": 0
}