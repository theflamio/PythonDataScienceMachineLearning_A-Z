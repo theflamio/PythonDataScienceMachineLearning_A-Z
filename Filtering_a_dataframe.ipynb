{
 "cells": [
  {
   "cell_type": "code",
   "execution_count": 3,
   "outputs": [],
   "source": [
    "import pandas as pd\n",
    "\n",
    "stats = pd.read_csv(\"P4-Demographic-Data.csv\")"
   ],
   "metadata": {
    "collapsed": false,
    "pycharm": {
     "name": "#%%\n"
    }
   }
  },
  {
   "cell_type": "code",
   "execution_count": 4,
   "outputs": [
    {
     "data": {
      "text/plain": "0      False\n1      False\n2      False\n3      False\n4      False\n       ...  \n190    False\n191    False\n192    False\n193    False\n194    False\nName: Internetusers, Length: 195, dtype: bool"
     },
     "execution_count": 4,
     "metadata": {},
     "output_type": "execute_result"
    }
   ],
   "source": [
    "# Filtering data in dataframes\n",
    "\n",
    "stats.Internetusers < 2"
   ],
   "metadata": {
    "collapsed": false,
    "pycharm": {
     "name": "#%%\n"
    }
   }
  },
  {
   "cell_type": "code",
   "execution_count": 5,
   "outputs": [
    {
     "data": {
      "text/plain": "      CountryName CountryCode  Birthrate  Internetusers          IncomeGroup\n11        Burundi         BDI     44.151            1.3           Low income\n52        Eritrea         ERI     34.800            0.9           Low income\n55       Ethiopia         ETH     32.925            1.9           Low income\n64         Guinea         GIN     37.337            1.6           Low income\n117       Myanmar         MMR     18.119            1.6  Lower middle income\n127         Niger         NER     49.661            1.7           Low income\n154  Sierra Leone         SLE     36.729            1.7           Low income\n156       Somalia         SOM     43.891            1.5           Low income\n172   Timor-Leste         TLS     35.755            1.1  Lower middle income",
      "text/html": "<div>\n<style scoped>\n    .dataframe tbody tr th:only-of-type {\n        vertical-align: middle;\n    }\n\n    .dataframe tbody tr th {\n        vertical-align: top;\n    }\n\n    .dataframe thead th {\n        text-align: right;\n    }\n</style>\n<table border=\"1\" class=\"dataframe\">\n  <thead>\n    <tr style=\"text-align: right;\">\n      <th></th>\n      <th>CountryName</th>\n      <th>CountryCode</th>\n      <th>Birthrate</th>\n      <th>Internetusers</th>\n      <th>IncomeGroup</th>\n    </tr>\n  </thead>\n  <tbody>\n    <tr>\n      <th>11</th>\n      <td>Burundi</td>\n      <td>BDI</td>\n      <td>44.151</td>\n      <td>1.3</td>\n      <td>Low income</td>\n    </tr>\n    <tr>\n      <th>52</th>\n      <td>Eritrea</td>\n      <td>ERI</td>\n      <td>34.800</td>\n      <td>0.9</td>\n      <td>Low income</td>\n    </tr>\n    <tr>\n      <th>55</th>\n      <td>Ethiopia</td>\n      <td>ETH</td>\n      <td>32.925</td>\n      <td>1.9</td>\n      <td>Low income</td>\n    </tr>\n    <tr>\n      <th>64</th>\n      <td>Guinea</td>\n      <td>GIN</td>\n      <td>37.337</td>\n      <td>1.6</td>\n      <td>Low income</td>\n    </tr>\n    <tr>\n      <th>117</th>\n      <td>Myanmar</td>\n      <td>MMR</td>\n      <td>18.119</td>\n      <td>1.6</td>\n      <td>Lower middle income</td>\n    </tr>\n    <tr>\n      <th>127</th>\n      <td>Niger</td>\n      <td>NER</td>\n      <td>49.661</td>\n      <td>1.7</td>\n      <td>Low income</td>\n    </tr>\n    <tr>\n      <th>154</th>\n      <td>Sierra Leone</td>\n      <td>SLE</td>\n      <td>36.729</td>\n      <td>1.7</td>\n      <td>Low income</td>\n    </tr>\n    <tr>\n      <th>156</th>\n      <td>Somalia</td>\n      <td>SOM</td>\n      <td>43.891</td>\n      <td>1.5</td>\n      <td>Low income</td>\n    </tr>\n    <tr>\n      <th>172</th>\n      <td>Timor-Leste</td>\n      <td>TLS</td>\n      <td>35.755</td>\n      <td>1.1</td>\n      <td>Lower middle income</td>\n    </tr>\n  </tbody>\n</table>\n</div>"
     },
     "execution_count": 5,
     "metadata": {},
     "output_type": "execute_result"
    }
   ],
   "source": [
    "# Filter example\n",
    "Filter = stats.Internetusers < 2\n",
    "\n",
    "stats[Filter] # Conceptually this is just like R"
   ],
   "metadata": {
    "collapsed": false,
    "pycharm": {
     "name": "#%%\n"
    }
   }
  },
  {
   "cell_type": "code",
   "execution_count": 6,
   "outputs": [
    {
     "data": {
      "text/plain": "          CountryName CountryCode  Birthrate  Internetusers  \\\n2              Angola         AGO     45.985           19.1   \n11            Burundi         BDI     44.151            1.3   \n14       Burkina Faso         BFA     40.551            9.1   \n65        Gambia, The         GMB     42.525           14.0   \n115              Mali         MLI     44.138            3.5   \n127             Niger         NER     49.661            1.7   \n128           Nigeria         NGA     40.045           38.0   \n156           Somalia         SOM     43.891            1.5   \n167              Chad         TCD     45.745            2.3   \n178            Uganda         UGA     43.474           16.2   \n192  Congo, Dem. Rep.         COD     42.394            2.2   \n193            Zambia         ZMB     40.471           15.4   \n\n             IncomeGroup  \n2    Upper middle income  \n11            Low income  \n14            Low income  \n65            Low income  \n115           Low income  \n127           Low income  \n128  Lower middle income  \n156           Low income  \n167           Low income  \n178           Low income  \n192           Low income  \n193  Lower middle income  ",
      "text/html": "<div>\n<style scoped>\n    .dataframe tbody tr th:only-of-type {\n        vertical-align: middle;\n    }\n\n    .dataframe tbody tr th {\n        vertical-align: top;\n    }\n\n    .dataframe thead th {\n        text-align: right;\n    }\n</style>\n<table border=\"1\" class=\"dataframe\">\n  <thead>\n    <tr style=\"text-align: right;\">\n      <th></th>\n      <th>CountryName</th>\n      <th>CountryCode</th>\n      <th>Birthrate</th>\n      <th>Internetusers</th>\n      <th>IncomeGroup</th>\n    </tr>\n  </thead>\n  <tbody>\n    <tr>\n      <th>2</th>\n      <td>Angola</td>\n      <td>AGO</td>\n      <td>45.985</td>\n      <td>19.1</td>\n      <td>Upper middle income</td>\n    </tr>\n    <tr>\n      <th>11</th>\n      <td>Burundi</td>\n      <td>BDI</td>\n      <td>44.151</td>\n      <td>1.3</td>\n      <td>Low income</td>\n    </tr>\n    <tr>\n      <th>14</th>\n      <td>Burkina Faso</td>\n      <td>BFA</td>\n      <td>40.551</td>\n      <td>9.1</td>\n      <td>Low income</td>\n    </tr>\n    <tr>\n      <th>65</th>\n      <td>Gambia, The</td>\n      <td>GMB</td>\n      <td>42.525</td>\n      <td>14.0</td>\n      <td>Low income</td>\n    </tr>\n    <tr>\n      <th>115</th>\n      <td>Mali</td>\n      <td>MLI</td>\n      <td>44.138</td>\n      <td>3.5</td>\n      <td>Low income</td>\n    </tr>\n    <tr>\n      <th>127</th>\n      <td>Niger</td>\n      <td>NER</td>\n      <td>49.661</td>\n      <td>1.7</td>\n      <td>Low income</td>\n    </tr>\n    <tr>\n      <th>128</th>\n      <td>Nigeria</td>\n      <td>NGA</td>\n      <td>40.045</td>\n      <td>38.0</td>\n      <td>Lower middle income</td>\n    </tr>\n    <tr>\n      <th>156</th>\n      <td>Somalia</td>\n      <td>SOM</td>\n      <td>43.891</td>\n      <td>1.5</td>\n      <td>Low income</td>\n    </tr>\n    <tr>\n      <th>167</th>\n      <td>Chad</td>\n      <td>TCD</td>\n      <td>45.745</td>\n      <td>2.3</td>\n      <td>Low income</td>\n    </tr>\n    <tr>\n      <th>178</th>\n      <td>Uganda</td>\n      <td>UGA</td>\n      <td>43.474</td>\n      <td>16.2</td>\n      <td>Low income</td>\n    </tr>\n    <tr>\n      <th>192</th>\n      <td>Congo, Dem. Rep.</td>\n      <td>COD</td>\n      <td>42.394</td>\n      <td>2.2</td>\n      <td>Low income</td>\n    </tr>\n    <tr>\n      <th>193</th>\n      <td>Zambia</td>\n      <td>ZMB</td>\n      <td>40.471</td>\n      <td>15.4</td>\n      <td>Lower middle income</td>\n    </tr>\n  </tbody>\n</table>\n</div>"
     },
     "execution_count": 6,
     "metadata": {},
     "output_type": "execute_result"
    }
   ],
   "source": [
    "# BirthRate greater than 40\n",
    "\n",
    "Filter2 = stats.Birthrate > 40\n",
    "\n",
    "stats[Filter2]"
   ],
   "metadata": {
    "collapsed": false,
    "pycharm": {
     "name": "#%%\n"
    }
   }
  },
  {
   "cell_type": "code",
   "execution_count": 7,
   "outputs": [
    {
     "ename": "ValueError",
     "evalue": "The truth value of a Series is ambiguous. Use a.empty, a.bool(), a.item(), a.any() or a.all().",
     "output_type": "error",
     "traceback": [
      "\u001B[1;31m---------------------------------------------------------------------------\u001B[0m",
      "\u001B[1;31mValueError\u001B[0m                                Traceback (most recent call last)",
      "Input \u001B[1;32mIn [7]\u001B[0m, in \u001B[0;36m<cell line: 1>\u001B[1;34m()\u001B[0m\n\u001B[1;32m----> 1\u001B[0m Filter3 \u001B[38;5;241m=\u001B[39m stats\u001B[38;5;241m.\u001B[39mBirthrate \u001B[38;5;241m>\u001B[39m \u001B[38;5;241m40\u001B[39m \u001B[38;5;129;01mand\u001B[39;00m stats\u001B[38;5;241m.\u001B[39mInternetusers \u001B[38;5;241m<\u001B[39m \u001B[38;5;241m2\u001B[39m \u001B[38;5;66;03m# Error Python thinks that we want to and two single values and not to list's therefor ambiguous\u001B[39;00m\n\u001B[0;32m      2\u001B[0m \u001B[38;5;66;03m#Filter3 = Filter2 & Filter # & dose it element by element\u001B[39;00m\n\u001B[0;32m      3\u001B[0m stats[Filter3]\n",
      "File \u001B[1;32m~\\AppData\\Local\\Programs\\Python\\Python310\\lib\\site-packages\\pandas\\core\\generic.py:1527\u001B[0m, in \u001B[0;36mNDFrame.__nonzero__\u001B[1;34m(self)\u001B[0m\n\u001B[0;32m   1525\u001B[0m \u001B[38;5;129m@final\u001B[39m\n\u001B[0;32m   1526\u001B[0m \u001B[38;5;28;01mdef\u001B[39;00m \u001B[38;5;21m__nonzero__\u001B[39m(\u001B[38;5;28mself\u001B[39m):\n\u001B[1;32m-> 1527\u001B[0m     \u001B[38;5;28;01mraise\u001B[39;00m \u001B[38;5;167;01mValueError\u001B[39;00m(\n\u001B[0;32m   1528\u001B[0m         \u001B[38;5;124mf\u001B[39m\u001B[38;5;124m\"\u001B[39m\u001B[38;5;124mThe truth value of a \u001B[39m\u001B[38;5;132;01m{\u001B[39;00m\u001B[38;5;28mtype\u001B[39m(\u001B[38;5;28mself\u001B[39m)\u001B[38;5;241m.\u001B[39m\u001B[38;5;18m__name__\u001B[39m\u001B[38;5;132;01m}\u001B[39;00m\u001B[38;5;124m is ambiguous. \u001B[39m\u001B[38;5;124m\"\u001B[39m\n\u001B[0;32m   1529\u001B[0m         \u001B[38;5;124m\"\u001B[39m\u001B[38;5;124mUse a.empty, a.bool(), a.item(), a.any() or a.all().\u001B[39m\u001B[38;5;124m\"\u001B[39m\n\u001B[0;32m   1530\u001B[0m     )\n",
      "\u001B[1;31mValueError\u001B[0m: The truth value of a Series is ambiguous. Use a.empty, a.bool(), a.item(), a.any() or a.all()."
     ]
    }
   ],
   "source": [
    "Filter3 = stats.Birthrate > 40 and stats.Internetusers < 2 # Error Python thinks that we want to and two single values and not to list's therefor ambiguous\n",
    "#Filter3 = Filter2 & Filter # & dose it element by element\n",
    "stats[Filter3]"
   ],
   "metadata": {
    "collapsed": false,
    "pycharm": {
     "name": "#%%\n"
    }
   }
  },
  {
   "cell_type": "code",
   "execution_count": null,
   "outputs": [],
   "source": [
    "Filter3 = Filter2 & Filter # & dose it element by element\n",
    "stats[Filter3]"
   ],
   "metadata": {
    "collapsed": false,
    "pycharm": {
     "name": "#%%\n"
    }
   }
  },
  {
   "cell_type": "code",
   "execution_count": null,
   "outputs": [],
   "source": [
    "Filter3 = (stats.Birthrate > 40) & (stats.Internetusers < 2) # Error Python thinks that we want to and two single values and not to list's therefor ambiguous\n",
    "#Filter3 = Filter2 & Filter # & dose it element by element\n",
    "stats[Filter3]"
   ],
   "metadata": {
    "collapsed": false,
    "pycharm": {
     "name": "#%%\n"
    }
   }
  },
  {
   "cell_type": "code",
   "execution_count": null,
   "outputs": [],
   "source": [
    "# Another one\n",
    "\n",
    "stats[stats.IncomeGroup == 'High income']"
   ],
   "metadata": {
    "collapsed": false,
    "pycharm": {
     "name": "#%%\n"
    }
   }
  },
  {
   "cell_type": "code",
   "execution_count": null,
   "outputs": [],
   "source": [
    "# How to get the unique categories\n",
    "stats.IncomeGroup.unique()"
   ],
   "metadata": {
    "collapsed": false,
    "pycharm": {
     "name": "#%%\n"
    }
   }
  },
  {
   "cell_type": "code",
   "execution_count": null,
   "outputs": [],
   "source": [
    "# quick Exercise:\n",
    "\n",
    "# Find out everything about Malta\n",
    "\n",
    "stats[stats.CountryName == 'Malta']"
   ],
   "metadata": {
    "collapsed": false,
    "pycharm": {
     "name": "#%%\n"
    }
   }
  },
  {
   "cell_type": "code",
   "execution_count": null,
   "outputs": [],
   "source": [
    "### Accessing individual elements\n",
    "\n",
    "stats[2,2] #Error"
   ],
   "metadata": {
    "collapsed": false,
    "pycharm": {
     "name": "#%%\n"
    }
   }
  },
  {
   "cell_type": "code",
   "execution_count": 8,
   "outputs": [
    {
     "data": {
      "text/plain": "            CountryName CountryCode  Birthrate  Internetusers  \\\n0                 Aruba         ABW     10.244           78.9   \n1           Afghanistan         AFG     35.253            5.9   \n2                Angola         AGO     45.985           19.1   \n3               Albania         ALB     12.877           57.2   \n4  United Arab Emirates         ARE     11.044           88.0   \n\n           IncomeGroup  \n0          High income  \n1           Low income  \n2  Upper middle income  \n3  Upper middle income  \n4          High income  ",
      "text/html": "<div>\n<style scoped>\n    .dataframe tbody tr th:only-of-type {\n        vertical-align: middle;\n    }\n\n    .dataframe tbody tr th {\n        vertical-align: top;\n    }\n\n    .dataframe thead th {\n        text-align: right;\n    }\n</style>\n<table border=\"1\" class=\"dataframe\">\n  <thead>\n    <tr style=\"text-align: right;\">\n      <th></th>\n      <th>CountryName</th>\n      <th>CountryCode</th>\n      <th>Birthrate</th>\n      <th>Internetusers</th>\n      <th>IncomeGroup</th>\n    </tr>\n  </thead>\n  <tbody>\n    <tr>\n      <th>0</th>\n      <td>Aruba</td>\n      <td>ABW</td>\n      <td>10.244</td>\n      <td>78.9</td>\n      <td>High income</td>\n    </tr>\n    <tr>\n      <th>1</th>\n      <td>Afghanistan</td>\n      <td>AFG</td>\n      <td>35.253</td>\n      <td>5.9</td>\n      <td>Low income</td>\n    </tr>\n    <tr>\n      <th>2</th>\n      <td>Angola</td>\n      <td>AGO</td>\n      <td>45.985</td>\n      <td>19.1</td>\n      <td>Upper middle income</td>\n    </tr>\n    <tr>\n      <th>3</th>\n      <td>Albania</td>\n      <td>ALB</td>\n      <td>12.877</td>\n      <td>57.2</td>\n      <td>Upper middle income</td>\n    </tr>\n    <tr>\n      <th>4</th>\n      <td>United Arab Emirates</td>\n      <td>ARE</td>\n      <td>11.044</td>\n      <td>88.0</td>\n      <td>High income</td>\n    </tr>\n  </tbody>\n</table>\n</div>"
     },
     "execution_count": 8,
     "metadata": {},
     "output_type": "execute_result"
    }
   ],
   "source": [
    "stats.head()"
   ],
   "metadata": {
    "collapsed": false,
    "pycharm": {
     "name": "#%%\n"
    }
   }
  },
  {
   "cell_type": "code",
   "execution_count": 9,
   "outputs": [],
   "source": [
    "# .at #for labels. Important: even integers are treated as labels\n",
    "# .iat #for integer location at specific cell"
   ],
   "metadata": {
    "collapsed": false,
    "pycharm": {
     "name": "#%%\n"
    }
   }
  },
  {
   "cell_type": "code",
   "execution_count": 10,
   "outputs": [
    {
     "data": {
      "text/plain": "'Upper middle income'"
     },
     "execution_count": 10,
     "metadata": {},
     "output_type": "execute_result"
    }
   ],
   "source": [
    "stats.iat[3,4]"
   ],
   "metadata": {
    "collapsed": false,
    "pycharm": {
     "name": "#%%\n"
    }
   }
  },
  {
   "cell_type": "code",
   "execution_count": 11,
   "outputs": [
    {
     "data": {
      "text/plain": "'ABW'"
     },
     "execution_count": 11,
     "metadata": {},
     "output_type": "execute_result"
    }
   ],
   "source": [
    "stats.iat[0,1]"
   ],
   "metadata": {
    "collapsed": false,
    "pycharm": {
     "name": "#%%\n"
    }
   }
  },
  {
   "cell_type": "code",
   "execution_count": 12,
   "outputs": [
    {
     "data": {
      "text/plain": "45.985"
     },
     "execution_count": 12,
     "metadata": {},
     "output_type": "execute_result"
    }
   ],
   "source": [
    "stats.at[2, 'Birthrate']"
   ],
   "metadata": {
    "collapsed": false,
    "pycharm": {
     "name": "#%%\n"
    }
   }
  },
  {
   "cell_type": "code",
   "execution_count": 13,
   "outputs": [],
   "source": [
    "subset10 = stats[::10]"
   ],
   "metadata": {
    "collapsed": false,
    "pycharm": {
     "name": "#%%\n"
    }
   }
  },
  {
   "cell_type": "code",
   "execution_count": 14,
   "outputs": [
    {
     "data": {
      "text/plain": "     CountryName CountryCode  Birthrate  Internetusers          IncomeGroup\n0          Aruba         ABW     10.244      78.900000          High income\n10    Azerbaijan         AZE     18.300      58.700000  Upper middle income\n20       Belarus         BLR     12.500      54.170000  Upper middle income\n30        Canada         CAN     10.900      85.800000          High income\n40    Costa Rica         CRI     15.022      45.960000  Upper middle income\n50       Ecuador         ECU     21.070      40.353684  Upper middle income\n60         Gabon         GAB     30.555       9.200000  Upper middle income\n70     Greenland         GRL     14.500      65.800000          High income\n80         India         IND     20.291      15.100000  Lower middle income\n90    Kazakhstan         KAZ     22.730      54.000000  Upper middle income\n100        Libya         LBY     21.425      16.500000  Upper middle income\n110      Moldova         MDA     12.141      45.000000  Lower middle income\n120   Mozambique         MOZ     39.705       5.400000           Low income\n130  Netherlands         NLD     10.200      93.956400          High income\n140       Poland         POL      9.600      62.849200          High income\n150        Sudan         SDN     33.477      22.700000  Lower middle income\n160     Suriname         SUR     18.455      37.400000  Upper middle income\n170   Tajikistan         TJK     30.792      16.000000  Lower middle income\n180      Uruguay         URY     14.374      57.690000          High income\n190  Yemen, Rep.         YEM     32.947      20.000000  Lower middle income",
      "text/html": "<div>\n<style scoped>\n    .dataframe tbody tr th:only-of-type {\n        vertical-align: middle;\n    }\n\n    .dataframe tbody tr th {\n        vertical-align: top;\n    }\n\n    .dataframe thead th {\n        text-align: right;\n    }\n</style>\n<table border=\"1\" class=\"dataframe\">\n  <thead>\n    <tr style=\"text-align: right;\">\n      <th></th>\n      <th>CountryName</th>\n      <th>CountryCode</th>\n      <th>Birthrate</th>\n      <th>Internetusers</th>\n      <th>IncomeGroup</th>\n    </tr>\n  </thead>\n  <tbody>\n    <tr>\n      <th>0</th>\n      <td>Aruba</td>\n      <td>ABW</td>\n      <td>10.244</td>\n      <td>78.900000</td>\n      <td>High income</td>\n    </tr>\n    <tr>\n      <th>10</th>\n      <td>Azerbaijan</td>\n      <td>AZE</td>\n      <td>18.300</td>\n      <td>58.700000</td>\n      <td>Upper middle income</td>\n    </tr>\n    <tr>\n      <th>20</th>\n      <td>Belarus</td>\n      <td>BLR</td>\n      <td>12.500</td>\n      <td>54.170000</td>\n      <td>Upper middle income</td>\n    </tr>\n    <tr>\n      <th>30</th>\n      <td>Canada</td>\n      <td>CAN</td>\n      <td>10.900</td>\n      <td>85.800000</td>\n      <td>High income</td>\n    </tr>\n    <tr>\n      <th>40</th>\n      <td>Costa Rica</td>\n      <td>CRI</td>\n      <td>15.022</td>\n      <td>45.960000</td>\n      <td>Upper middle income</td>\n    </tr>\n    <tr>\n      <th>50</th>\n      <td>Ecuador</td>\n      <td>ECU</td>\n      <td>21.070</td>\n      <td>40.353684</td>\n      <td>Upper middle income</td>\n    </tr>\n    <tr>\n      <th>60</th>\n      <td>Gabon</td>\n      <td>GAB</td>\n      <td>30.555</td>\n      <td>9.200000</td>\n      <td>Upper middle income</td>\n    </tr>\n    <tr>\n      <th>70</th>\n      <td>Greenland</td>\n      <td>GRL</td>\n      <td>14.500</td>\n      <td>65.800000</td>\n      <td>High income</td>\n    </tr>\n    <tr>\n      <th>80</th>\n      <td>India</td>\n      <td>IND</td>\n      <td>20.291</td>\n      <td>15.100000</td>\n      <td>Lower middle income</td>\n    </tr>\n    <tr>\n      <th>90</th>\n      <td>Kazakhstan</td>\n      <td>KAZ</td>\n      <td>22.730</td>\n      <td>54.000000</td>\n      <td>Upper middle income</td>\n    </tr>\n    <tr>\n      <th>100</th>\n      <td>Libya</td>\n      <td>LBY</td>\n      <td>21.425</td>\n      <td>16.500000</td>\n      <td>Upper middle income</td>\n    </tr>\n    <tr>\n      <th>110</th>\n      <td>Moldova</td>\n      <td>MDA</td>\n      <td>12.141</td>\n      <td>45.000000</td>\n      <td>Lower middle income</td>\n    </tr>\n    <tr>\n      <th>120</th>\n      <td>Mozambique</td>\n      <td>MOZ</td>\n      <td>39.705</td>\n      <td>5.400000</td>\n      <td>Low income</td>\n    </tr>\n    <tr>\n      <th>130</th>\n      <td>Netherlands</td>\n      <td>NLD</td>\n      <td>10.200</td>\n      <td>93.956400</td>\n      <td>High income</td>\n    </tr>\n    <tr>\n      <th>140</th>\n      <td>Poland</td>\n      <td>POL</td>\n      <td>9.600</td>\n      <td>62.849200</td>\n      <td>High income</td>\n    </tr>\n    <tr>\n      <th>150</th>\n      <td>Sudan</td>\n      <td>SDN</td>\n      <td>33.477</td>\n      <td>22.700000</td>\n      <td>Lower middle income</td>\n    </tr>\n    <tr>\n      <th>160</th>\n      <td>Suriname</td>\n      <td>SUR</td>\n      <td>18.455</td>\n      <td>37.400000</td>\n      <td>Upper middle income</td>\n    </tr>\n    <tr>\n      <th>170</th>\n      <td>Tajikistan</td>\n      <td>TJK</td>\n      <td>30.792</td>\n      <td>16.000000</td>\n      <td>Lower middle income</td>\n    </tr>\n    <tr>\n      <th>180</th>\n      <td>Uruguay</td>\n      <td>URY</td>\n      <td>14.374</td>\n      <td>57.690000</td>\n      <td>High income</td>\n    </tr>\n    <tr>\n      <th>190</th>\n      <td>Yemen, Rep.</td>\n      <td>YEM</td>\n      <td>32.947</td>\n      <td>20.000000</td>\n      <td>Lower middle income</td>\n    </tr>\n  </tbody>\n</table>\n</div>"
     },
     "execution_count": 14,
     "metadata": {},
     "output_type": "execute_result"
    }
   ],
   "source": [
    "subset10"
   ],
   "metadata": {
    "collapsed": false,
    "pycharm": {
     "name": "#%%\n"
    }
   }
  },
  {
   "cell_type": "code",
   "execution_count": 15,
   "outputs": [
    {
     "data": {
      "text/plain": "'Libya'"
     },
     "execution_count": 15,
     "metadata": {},
     "output_type": "execute_result"
    }
   ],
   "source": [
    "subset10.iat[10,0] # .iat #for integer location at specific cell \"counts every row\""
   ],
   "metadata": {
    "collapsed": false,
    "pycharm": {
     "name": "#%%\n"
    }
   }
  },
  {
   "cell_type": "code",
   "execution_count": 16,
   "outputs": [
    {
     "data": {
      "text/plain": "'Azerbaijan'"
     },
     "execution_count": 16,
     "metadata": {},
     "output_type": "execute_result"
    }
   ],
   "source": [
    "subset10.at[10,'CountryName'] # .at #for labels. Important: even integers are treated as labels \"looks for label 10\""
   ],
   "metadata": {
    "collapsed": false,
    "pycharm": {
     "name": "#%%\n"
    }
   }
  },
  {
   "cell_type": "code",
   "execution_count": null,
   "outputs": [],
   "source": [],
   "metadata": {
    "collapsed": false,
    "pycharm": {
     "name": "#%%\n"
    }
   }
  }
 ],
 "metadata": {
  "kernelspec": {
   "display_name": "Python 3",
   "language": "python",
   "name": "python3"
  },
  "language_info": {
   "codemirror_mode": {
    "name": "ipython",
    "version": 2
   },
   "file_extension": ".py",
   "mimetype": "text/x-python",
   "name": "python",
   "nbconvert_exporter": "python",
   "pygments_lexer": "ipython2",
   "version": "2.7.6"
  }
 },
 "nbformat": 4,
 "nbformat_minor": 0
}